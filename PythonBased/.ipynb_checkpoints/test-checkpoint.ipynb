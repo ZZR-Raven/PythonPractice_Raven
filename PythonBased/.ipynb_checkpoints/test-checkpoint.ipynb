{
 "cells": [
  {
   "cell_type": "markdown",
   "metadata": {},
   "source": [
    "# Python基础知识练习"
   ]
  },
  {
   "cell_type": "code",
   "execution_count": 1,
   "metadata": {},
   "outputs": [],
   "source": [
    "__author__ = 'Raven'"
   ]
  },
  {
   "cell_type": "markdown",
   "metadata": {},
   "source": [
    "## 输入输出"
   ]
  },
  {
   "cell_type": "code",
   "execution_count": 2,
   "metadata": {},
   "outputs": [
    {
     "name": "stdout",
     "output_type": "stream",
     "text": [
      "hello world\n",
      "I am Raven\n",
      "0\n",
      "0\n"
     ]
    }
   ],
   "source": [
    "print('hello world')\n",
    "print('I','am','Raven')\n",
    "print((100**2)%5)#10000\n",
    "print(100**2%5)#10000\n",
    "#myname=input('please input your name : ')#括号里运行print\n",
    "#print(myname)"
   ]
  },
  {
   "cell_type": "markdown",
   "metadata": {},
   "source": [
    "## 数据类型和变量"
   ]
  },
  {
   "cell_type": "code",
   "execution_count": 3,
   "metadata": {},
   "outputs": [
    {
     "name": "stdout",
     "output_type": "stream",
     "text": [
      "1.6\n",
      "i'm \"ok\"\n",
      "\\\t\\\n",
      "\\\\\\t\\\\\n",
      "line1\n",
      "line2\n",
      "line3\n",
      "testor =  True\n",
      "testnot =  False\n",
      "3.0\n",
      "3.3333333333333335\n",
      "3\n",
      "hallo,Raven,你的生日是1999\n"
     ]
    }
   ],
   "source": [
    "print(3.6%2)#取模函数支持浮点数\n",
    "print('i\\'m \\\"ok\\\"')\n",
    "print('\\\\\\t\\\\')\n",
    "print(r'\\\\\\t\\\\')#r''的''里面的字符串不转义\n",
    "print('''line1\n",
    "line2\n",
    "line3''')\n",
    "testor = 1>3 or 3>1\n",
    "testnot = not 3>1\n",
    "print('testor = ',testor)\n",
    "print('testnot = ',testnot)\n",
    "print(9/3)\n",
    "print(10/3)\n",
    "print(10//3)\n",
    "#   占位\n",
    "#   %s  字符串\n",
    "#   %d  整数 \n",
    "#   %f  浮点数\n",
    "#   %x  十六进制整数\n",
    "print('hallo,{0},你的生日是{1}'.format('Raven',1999))"
   ]
  },
  {
   "cell_type": "markdown",
   "metadata": {},
   "source": [
    "## list 不定长 可修改"
   ]
  },
  {
   "cell_type": "code",
   "execution_count": 4,
   "metadata": {},
   "outputs": [
    {
     "name": "stdout",
     "output_type": "stream",
     "text": [
      "3\n",
      "['a', 'b', 'c', 'test']\n",
      "['a', 233, 'b', 'c']\n",
      "[1, ['a', 233, 'b', 'c'], True]\n",
      "3\n"
     ]
    }
   ],
   "source": [
    "testlist = ['a','b','c']\n",
    "print(len(testlist))\n",
    "testlist.append('test')\n",
    "print(testlist)\n",
    "testlist.pop(3)\n",
    "testlist.insert(-2,233)#负号索引,最右-1；插入在再左一位！！['a', 233, 'b', 'c']\n",
    "print(testlist)\n",
    "testlist_2 = [1,testlist,True]\n",
    "print(testlist_2)\n",
    "print(len(testlist_2))#list插入到另一个list只算一个元素"
   ]
  },
  {
   "cell_type": "markdown",
   "metadata": {},
   "source": [
    "### tuple 不可修改"
   ]
  },
  {
   "cell_type": "code",
   "execution_count": 3,
   "metadata": {},
   "outputs": [
    {
     "name": "stdout",
     "output_type": "stream",
     "text": [
      "2\n",
      "(1,)\n",
      "('a', ['B', 'c'])\n"
     ]
    }
   ],
   "source": [
    "testtuple = (2) #这是个运算，不是【一个元素的tuple】\n",
    "print(testtuple)\n",
    "testtuple_1 = (1,)\n",
    "print(testtuple_1)#加个逗号才是【一个元素的tuple】\n",
    "testyuple_2 = ('a',['b','c'])\n",
    "testyuple_2[1][0] = 'B'#tuple内部的list内元素可变\n",
    "print(testyuple_2)"
   ]
  },
  {
   "cell_type": "markdown",
   "metadata": {},
   "source": [
    "## if else"
   ]
  },
  {
   "cell_type": "code",
   "execution_count": 6,
   "metadata": {},
   "outputs": [
    {
     "name": "stdout",
     "output_type": "stream",
     "text": [
      "teenager\n",
      "forsum =  165\n"
     ]
    }
   ],
   "source": [
    "age = 16\n",
    "#age = input('age = ')\n",
    "if age >= 18:\n",
    "    print('adult')\n",
    "elif age >= 6: #elif = else if in C\n",
    "    print('teenager')\n",
    "else:\n",
    "    print('kids')\n",
    "\n",
    "#for in\n",
    "forsum = 0\n",
    "for forx in [1,3,5,7,9] :\n",
    "    forsum = forsum + forx*forx\n",
    "print('forsum = ',forsum)"
   ]
  },
  {
   "cell_type": "markdown",
   "metadata": {},
   "source": [
    "## while"
   ]
  },
  {
   "cell_type": "code",
   "execution_count": 7,
   "metadata": {},
   "outputs": [
    {
     "name": "stdout",
     "output_type": "stream",
     "text": [
      "whilesum =  338\n"
     ]
    }
   ],
   "source": [
    "\n",
    "whilesum = 0\n",
    "whilen = 0\n",
    "while whilen < 100 :\n",
    "    #if whilen > 50 : break 这里插结果会不一样\n",
    "    whilen = whilen + 2\n",
    "    if whilen > 50 : \n",
    "        break #跳出循环\n",
    "    if whilen % 4 == 0  : \n",
    "        continue#不执行下面语句,继续下一轮循环\n",
    "    whilesum  = whilesum + whilen\n",
    "print('whilesum = ',whilesum)"
   ]
  },
  {
   "cell_type": "markdown",
   "metadata": {},
   "source": [
    "## dict key-value ！key不可变，不可以用list当key"
   ]
  },
  {
   "cell_type": "code",
   "execution_count": 8,
   "metadata": {},
   "outputs": [
    {
     "name": "stdout",
     "output_type": "stream",
     "text": [
      "{'A': 1, 'B': 66, 'C': 67}\n",
      "66\n",
      "wrong\n"
     ]
    }
   ],
   "source": [
    "dicttest = {'A':65,'B':66,'C':67}   #定义大括号\n",
    "dicttest['A'] = 1                   #调用中括号\n",
    "print(dicttest)\n",
    "#print(dicttest['D'])直接写会报错\n",
    "print(dicttest.get('B','wrong'))    #函数小括号\n",
    "print(dicttest.get('D','wrong'))"
   ]
  },
  {
   "cell_type": "markdown",
   "metadata": {},
   "source": [
    "## 字符串可变"
   ]
  },
  {
   "cell_type": "code",
   "execution_count": 9,
   "metadata": {},
   "outputs": [
    {
     "name": "stdout",
     "output_type": "stream",
     "text": [
      "Harry\n",
      "harry\n",
      "harry\n"
     ]
    }
   ],
   "source": [
    "strtest = 'harry'\n",
    "strtest_1 = strtest.replace('h','H')\n",
    "print(strtest_1)\n",
    "print(strtest)\n",
    "strtest.replace('y','1')\n",
    "print(strtest)#结果还是harry，是创建了一个新字符串然后返回，所以需要一个变量去接收"
   ]
  }
 ],
 "metadata": {
  "file_extension": ".py",
  "kernelspec": {
   "display_name": "Python 3",
   "language": "python",
   "name": "python3"
  },
  "language_info": {
   "codemirror_mode": {
    "name": "ipython",
    "version": 3
   },
   "file_extension": ".py",
   "mimetype": "text/x-python",
   "name": "python",
   "nbconvert_exporter": "python",
   "pygments_lexer": "ipython3",
   "version": "3.7.3"
  },
  "mimetype": "text/x-python",
  "name": "python",
  "npconvert_exporter": "python",
  "pygments_lexer": "ipython3",
  "version": 3
 },
 "nbformat": 4,
 "nbformat_minor": 2
}
