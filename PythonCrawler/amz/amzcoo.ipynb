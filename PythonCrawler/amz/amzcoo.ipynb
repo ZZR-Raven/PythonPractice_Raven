{
 "nbformat": 4,
 "nbformat_minor": 2,
 "metadata": {
  "language_info": {
   "name": "python",
   "codemirror_mode": {
    "name": "ipython",
    "version": 3
   },
   "version": "3.7.3"
  },
  "orig_nbformat": 2,
  "file_extension": ".py",
  "mimetype": "text/x-python",
  "name": "python",
  "npconvert_exporter": "python",
  "pygments_lexer": "ipython3",
  "version": 3
 },
 "cells": [
  {
   "cell_type": "code",
   "execution_count": 1,
   "metadata": {},
   "outputs": [],
   "source": [
    "import re\n",
    "import json\n",
    "import requests\n",
    "from selenium import webdriver\n",
    "from selenium.webdriver.common.keys import Keys\n",
    "from lxml import etree\n",
    "from scrapy.selector import Selector\n",
    "import scrapy\n",
    "import lxml\n",
    "from tqdm import tqdm,trange\n",
    "import time\n",
    "import captcha\n",
    "\n",
    "class driver_crawler(object):\n",
    "\n",
    "    def __init__(self):\n",
    "        self.driver = webdriver.Chrome()\n",
    "\n",
    "    def driverget(self,url):\n",
    "        self.driver.get(url)\n",
    "\n",
    "    def driver_pause(self,*args):\n",
    "        if len(args) == 0 :\n",
    "            input('pause')\n",
    "        else :\n",
    "            for values in args:\n",
    "                input(str(values)) \n",
    " \n"
   ]
  },
  {
   "cell_type": "code",
   "execution_count": null,
   "metadata": {},
   "outputs": [],
   "source": [
    "coo_1 = '''\n",
    "skin=noskin; \n",
    "session-id=130-5304808-8042547; \n",
    "session-id-time=2082787201l; \n",
    "i18n-prefs=USD; \n",
    "lc-main=zh_CN; \n",
    "sp-cdn=\"L5Z9:CN\"; \n",
    "ubid-main=130-6114388-0935861; \n",
    "x-wl-uid=1FAZ+GZcBqDtwRFVlMLPyTp7hejEdrNcrwNkSXuHlx3fy2sZvxD7IS5lmdun24/VkwD/rrEdc2+4=; \n",
    "session-token=2neBng4LLhSXYXkPZBdtxOCaVlFLTvE26Y5JdMbRrp3hBqJzk25Ar/beJxtsgTBvvjYfKEgbAGBVIt2FekWOAeBJ/0r75oahlPCvsBm1EE8BE6cLnPSvUaeSCyA0fSVFd0Xm9fPRdWmzXtAuLaUdp6m3FPsiFAagoRb3X0aRvOkj00Zkp9K5/M1MGpt0wEZLXnj+SClqckXsuFPxEe8BlN1x8bGpbKIQls86hNteYkb5pqDfr3hA3QPvMV4t48uC; \n",
    "csm-hit=tb:BY0FFA2DS86RN8EKKKFH+s-BY0FFA2DS86RN8EKKKFH|1574576400579&t:1574576400579&adb:adblk_no'''\n",
    "\n",
    "coo_3 = '''\n",
    "skin=noskin; \n",
    "session-id=130-5304808-8042547; \n",
    "session-id-time=2082787201l; \n",
    "lc-main=zh_CN; \n",
    "sp-cdn=\"L5Z9:CN\"; \n",
    "ubid-main=130-6114388-0935861; \n",
    "x-wl-uid=1FAZ+GZcBqDtwRFVlMLPyTp7hejEdrNcrwNkSXuHlx3fy2sZvxD7IS5lmdun24/VkwD/rrEdc2+4=; \n",
    "csm-hit=tb:BY0FFA2DS86RN8EKKKFH+s-3DWQWBRVHMTHVRP8V4JE|1574576509102&t:1574576509102&adb:adblk_no; \n",
    "a-ogbcbff=1; session-token=\"oB6melPlPzSKWS54KRhoJKN+kORNfrtU6k7tV6Jb0lqMtmW4RSPXJPngSEGhtp2EEKN0sgHxUHNvMZ3AapODFpFUZXTkOgPc8FHnUJ1lzwjqJpsRq8xYu1cU+SUrZRKAE/eTUB2Q6mzQKYYi9lQH8Wl9Sf+maeHLNi0x45rq5ldB1i2L544USooa5AuFj/d26YhYjSU+DBcYsFK8TdjZ/knLJBNWOMv1gErhVe6G3gzSaNtQWeGeYXeDWCvQSEUx6o7c09esaS86i4VHgYM4pg==\"; x-main=\"f1XuYAfyuewtsfehnDHEYRNUOIOb9??ynpOdtX5SmXtn8@jZrzy2jBsdqoXvpneN\"; \n",
    "at-main=Atza|IwEBIAVxBEo5paP3gyRe3XlYsIa4kyKPAJNXIpPqQWOSLeD4RzQcvbcUcWWDO8Bn9ggl3KALbnVO2Zj6SJiRBOQuxT9LD7Ba3LD9ThVu-pGaP4Jryf0e9A6o1C4Q7rzEwUDXEw0LKY_o6TB1BdCaqviyksHZ9zOCj-sBrVSWVGMVjtGymM3hIy9k2Bpz19A4B9heRk5yR3qlEEZbypT_1a3gBBLS12IVlHgPXPbNeK0yratlz_38BObm36tJ5w617jtT8J9O-bOppkmOqUll9dxBp9_gAQ2XxF_UaumkyZO-SIja6JmlVj2Cr7pWydbxpuqUh7WyBD4eA40LNbvJTuSYtebMdA-xqymWTij9tloqq18Pbj43_l_O-Wwchke2nKV1O_IHgGqLXn45LBie32POukB0NebEpzvY50yqn5XmyTFOKltY7OFmQxnwfYmE7DA9osw; sess-at-main=\"VMyMoF61lmlnEz8/ezWrUUW9jodrmNfc2oiBmh9Dm4Q=\"; \n",
    "sst-main=Sst1|PQEKgY2c0gP2FxkWLSZclz7fCxqgKI5oX6phor2tgiEi8UpFMVbYJ54CdA-E9o47u0RQYCGE04qI2La-lDzeMjsX7c1Oq5vgTPqFZuyqCZaHt0WNLLVdvPLgVF9GuH5aMDGoA-LKz9eaxIijDPXvGGEQuGF2huHsXERNxuBdneDnqQq_r2I-w2TdrDo8TZN8SGmycCXYnwIn1BhUjW-t98bNhuMoHWbJ3qneJwX44TTKMZea9KC_kkauhYGnMEPjqEkoLovoGY1zxIWy4oyfXYJC16wlDlrCATDrniq8sKFGhrnMGf8D3InwJ4ooV_3pX6e8_d8lT-EaertZr-V4PcdtqA'''"
   ]
  },
  {
   "cell_type": "code",
   "execution_count": null,
   "metadata": {},
   "outputs": [],
   "source": []
  },
  {
   "cell_type": "code",
   "execution_count": null,
   "metadata": {},
   "outputs": [],
   "source": []
  }
 ]
}