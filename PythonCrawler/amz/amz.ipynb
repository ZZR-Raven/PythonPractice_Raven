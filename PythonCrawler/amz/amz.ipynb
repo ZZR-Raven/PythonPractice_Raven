{
 "nbformat": 4,
 "nbformat_minor": 2,
 "metadata": {
  "language_info": {
   "name": "python",
   "codemirror_mode": {
    "name": "ipython",
    "version": 3
   },
   "version": "3.7.3"
  },
  "orig_nbformat": 2,
  "file_extension": ".py",
  "mimetype": "text/x-python",
  "name": "python",
  "npconvert_exporter": "python",
  "pygments_lexer": "ipython3",
  "version": 3
 },
 "cells": [
  {
   "cell_type": "code",
   "execution_count": 1,
   "metadata": {},
   "outputs": [],
   "source": [
    "import re\n",
    "import json\n",
    "import requests\n",
    "from selenium import webdriver\n",
    "from selenium.webdriver.common.keys import Keys\n",
    "from lxml import etree\n",
    "from scrapy.selector import Selector\n",
    "import scrapy\n",
    "import lxml\n",
    "from tqdm import tqdm,trange\n",
    "import time\n",
    "import xlrd\n",
    "import captcha\n",
    "from captcha.image import ImageCaptcha\n",
    "import pytesseract\n",
    "from PIL import Image"
   ]
  },
  {
   "cell_type": "code",
   "execution_count": 34,
   "metadata": {},
   "outputs": [],
   "source": [
    "class driver_crawler(object):\n",
    "\n",
    "    def __init__(self):\n",
    "        self.driver = webdriver.Chrome()\n",
    "\n",
    "    def driverget(self,url):\n",
    "        self.driver.get(url)\n",
    "\n",
    "    def driver_pause(self,*args):\n",
    "        if len(args) == 0 :\n",
    "            input('pause')\n",
    "        else :\n",
    "            for values in args:\n",
    "                input(str(values)) \n",
    " \n"
   ]
  },
  {
   "cell_type": "code",
   "execution_count": 35,
   "metadata": {},
   "outputs": [],
   "source": [
    "\n",
    "# url_1 = 'https://www.amazon.cn/b?node=2112046051&topPageInfo&pf_rd_r=NWF962YKW8SGKEA9BQX4&pf_rd_p=27c483fd-6fcb-46b9-9776-b3ab97ada103&pf_rd_m=A1AJ19PSB66TGU&pf_rd_s=desktop-10&ref_=Oct_CateC_NA_0'\n",
    "\n",
    "url_1 = '''https://www.amazon.com/-/zh/ap/signin?openid.pape.\n",
    "max_auth_age=0&openid.return_to=https%3A%2F%2Fwww.amazon.com%\n",
    "2Fref%3Dnav_ya_signin&openid.identity=http%3A%2F%2Fspecs.openi\n",
    "d.net%2Fauth%2F2.0%2Fidentifier_select&openid.assoc_handle=usf\n",
    "lex&openid.mode=checkid_setup&openid.claimed_id=http%3A%2F%2Fs\n",
    "pecs.openid.net%2Fauth%2F2.0%2Fidentifier_se\n",
    "lect&openid.ns=http\n",
    "%3A%2F%2Fspecs.openid.net%2Fauth%2F2.0&'''\n",
    "\n",
    "user_driver = driver_crawler()\n",
    "user_driver.driverget(url_1)  \n",
    "user_driver.driver.maximize_window()"
   ]
  },
  {
   "cell_type": "code",
   "execution_count": 4,
   "metadata": {},
   "outputs": [],
   "source": [
    "chosenuser = 1\n",
    "workbook=xlrd.open_workbook('amzuser.xlsx')\n",
    "userinfo = workbook.sheet_by_name('Sheet1')\n",
    "userid = userinfo.cell(chosenuser, 1).value\n",
    "psw = userinfo.cell(chosenuser, 2).value"
   ]
  },
  {
   "cell_type": "code",
   "execution_count": 37,
   "metadata": {},
   "outputs": [],
   "source": [
    "ac_xpath = '//*[@id=\"ap_email\"]'\n",
    "user_driver.driver.find_element_by_xpath(ac_xpath).send_keys(userid)"
   ]
  },
  {
   "cell_type": "code",
   "execution_count": 38,
   "metadata": {},
   "outputs": [],
   "source": [
    "ctn_xpath = '//*[@id=\"continue\"]'\n",
    "user_driver.driver.find_element_by_xpath(ctn_xpath).click()\n"
   ]
  },
  {
   "cell_type": "code",
   "execution_count": 44,
   "metadata": {},
   "outputs": [],
   "source": [
    "psw_xpath = '//*[@id=\"ap_password\"]'\n",
    "user_driver.driver.find_element_by_xpath(psw_xpath).send_keys(psw)"
   ]
  },
  {
   "cell_type": "code",
   "execution_count": 45,
   "metadata": {},
   "outputs": [],
   "source": [
    "pswenter_xpath = '//*[@id=\"signInSubmit\"]'\n",
    "user_driver.driver.find_element_by_xpath(pswenter_xpath).click()"
   ]
  },
  {
   "cell_type": "code",
   "execution_count": 13,
   "metadata": {},
   "outputs": [],
   "source": [
    "again_psw = '//*[@id=\"ap_password\"]'\n",
    "user_driver.driver.find_element_by_xpath(again_psw).send_keys(psw)"
   ]
  },
  {
   "cell_type": "code",
   "execution_count": 15,
   "metadata": {},
   "outputs": [
    {
     "data": {
      "text/plain": "True"
     },
     "execution_count": 15,
     "metadata": {},
     "output_type": "execute_result"
    }
   ],
   "source": [
    "# imgxpath = '//*[@id=\"auth-captcha-image\"]'\n",
    "# user_driver.driver.save_screenshot(\"01.png\")\n",
    "# yzm=user_driver.driver.find_element_by_id(imgxpath)\n",
    "# #定位验证码\n",
    "# location=yzm.location\n",
    "# #获取验证码x,y轴坐标\n",
    "# size=yzm.size\n",
    "# #获取验证码的长宽\n",
    "# rangle=(int(location['x']),int(location['y']),int(location['x']+size['width']),int(locat       ion['y']+size['height']))\n",
    "# #截取的位置坐标\n",
    "# i=Image.open(\"f://a.png\") \n"
   ]
  },
  {
   "cell_type": "code",
   "execution_count": 58,
   "metadata": {},
   "outputs": [
    {
     "name": "stdout",
     "output_type": "stream",
     "text": "32\n"
    }
   ],
   "source": [
    "print(pytesseract.image_to_string(Image.open('02.png')).strip())"
   ]
  },
  {
   "cell_type": "code",
   "metadata": {},
   "outputs": [],
   "source": [
    "pd_url = 'https://www.amazon.com/LunchBots-Small-Protein-Packer-Toddler/dp/B07983SV7B/ref=pd_rhf_ee_s_gcx-rhf_1_11?_encoding=UTF8&pd_rd_i=B07983SV7B&pd_rd_r=1d22b2dc-f0ec-4b5c-a68e-d5611394752f&pd_rd_w=bHcZu&pd_rd_wg=5s1tP&pf_rd_p=e4428c85-fd48-4538-856a-c8e08f1d4118&pf_rd_r=5R70DQQE7PW2XX4SQQ3G&psc=1&refRID=5R70DQQE7PW2XX4SQQ3G'\n",
    "user_driver.driverget(pd_url) "
   ]
  },
  {
   "cell_type": "code",
   "metadata": {},
   "outputs": [],
   "source": [
    "saler_xpath = '//*[@id=\"sellerProfileTriggerId\"]'\n",
    "user_driver.driver.find_element_by_xpath(saler_xpath).click()"
   ]
  },
  {
   "cell_type": "code",
   "metadata": {},
   "outputs": [],
   "source": [
    "email_xpath = '//*[@id=\"seller-contact-button\"]/span/a'\n",
    "user_driver.driver.find_element_by_xpath(email_xpath).click()\n"
   ]
  },
  {
   "cell_type": "code",
   "metadata": {},
   "outputs": [],
   "source": [
    "now_handle = user_driver.driver.current_window_handle \n",
    "all_handles = user_driver.driver.window_handles  \n",
    "# 获取到当前所有的句柄,所有的句柄存放在列表当中\n",
    "print(all_handles)\n",
    "print(now_handle)"
   ]
  },
  {
   "cell_type": "code",
   "metadata": {},
   "outputs": [],
   "source": [
    "for handles in all_handles:\n",
    "    if now_handle != handles:\n",
    "        user_driver.driver.switch_to_window(handles)"
   ]
  },
  {
   "cell_type": "code",
   "metadata": {},
   "outputs": [],
   "source": []
  },
  {
   "cell_type": "code",
   "metadata": {},
   "outputs": [],
   "source": [
    "change_add = '//*[@id=\"GLUXZipUpdateInput\"]'\n",
    "user_driver.driver.find_element_by_xpath(change_add).send_keys('90001')"
   ]
  },
  {
   "cell_type": "code",
   "metadata": {},
   "outputs": [],
   "source": [
    "write_msg = '//*[@id=\"writeButton\"]/span/input'\n",
    "user_driver.driver.find_element_by_xpath(write_msg).click()"
   ]
  }
 ]
}