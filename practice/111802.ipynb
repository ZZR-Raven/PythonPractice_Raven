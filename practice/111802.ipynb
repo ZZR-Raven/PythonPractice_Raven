{
 "nbformat": 4,
 "nbformat_minor": 2,
 "metadata": {
  "language_info": {
   "name": "python",
   "codemirror_mode": {
    "name": "ipython",
    "version": 3
   }
  },
  "orig_nbformat": 2,
  "file_extension": ".py",
  "mimetype": "text/x-python",
  "name": "python",
  "npconvert_exporter": "python",
  "pygments_lexer": "ipython3",
  "version": 3
 },
 "cells": [
  {
   "cell_type": "code",
   "execution_count": 1,
   "metadata": {},
   "outputs": [
    {
     "name": "stdout",
     "output_type": "stream",
     "text": "name:  Raven age: 19 other {'city': 'Shaoguan'}\nname:  HYY age: 20 other {'gender': 'M'}\n"
    }
   ],
   "source": [
    "def Function_Keywords(name,age,**kw):\n",
    "    print('name: ',name,'age:',age,'other',kw)\n",
    "Function_Keywords('Raven', 19, city = 'Shaoguan')\n",
    "Function_Keywords('HYY',20, gender = 'M')"
   ]
  },
  {
   "cell_type": "code",
   "execution_count": 2,
   "metadata": {},
   "outputs": [
    {
     "name": "stdout",
     "output_type": "stream",
     "text": "name:  Jane age: 21 other {'city': 'Shenzhen', 'job': 'Engineer'}\n"
    }
   ],
   "source": [
    "KeywordsDict = {'city': 'Shenzhen','job':'Engineer'}\n",
    "Function_Keywords('Jane',21,**KeywordsDict)             # unpack"
   ]
  },
  {
   "cell_type": "markdown",
   "execution_count": null,
   "metadata": {},
   "outputs": [],
   "source": [
    "### 命名关键字参数，需要传入参数名，可以调换顺序"
   ]
  },
  {
   "cell_type": "code",
   "execution_count": 6,
   "metadata": {},
   "outputs": [
    {
     "name": "stdout",
     "output_type": "stream",
     "text": "Jack 24 Shanghai Engineer\n"
    }
   ],
   "source": [
    "def Function_Rename_1(name,age,*,city,job):             \n",
    "    print(name,age,city,job)\n",
    "Function_Rename_1('Jack',24,job = 'Engineer',city = 'Shanghai')"
   ]
  },
  {
   "cell_type": "code",
   "execution_count": null,
   "metadata": {},
   "outputs": [],
   "source": [
    "### **kw是个dict"
   ]
  },
  {
   "cell_type": "code",
   "execution_count": 7,
   "metadata": {},
   "outputs": [
    {
     "name": "stdout",
     "output_type": "stream",
     "text": "a =  1 b =  2 c =  d = 1 d =  1 kw =  {'xyz': None, 'abc': 233}\n"
    }
   ],
   "source": [
    "def Function_Combining_2 (a, b, c = 0, *, d, **kw):\n",
    "    print('a = ', a, 'b = ', b, 'c = ', c, 'd = ', d, 'kw = ', kw)\n",
    "Function_Combining_2(1,2,'d = 1',d = 1,xyz = None, abc = 233)"
   ]
  },
  {
   "cell_type": "code",
   "execution_count": null,
   "metadata": {},
   "outputs": [],
   "source": []
  }
 ]
}