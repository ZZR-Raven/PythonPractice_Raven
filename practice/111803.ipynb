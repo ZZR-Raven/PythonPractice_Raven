{
 "nbformat": 4,
 "nbformat_minor": 2,
 "metadata": {
  "language_info": {
   "name": "python",
   "codemirror_mode": {
    "name": "ipython",
    "version": 3
   }
  },
  "orig_nbformat": 2,
  "file_extension": ".py",
  "mimetype": "text/x-python",
  "name": "python",
  "npconvert_exporter": "python",
  "pygments_lexer": "ipython3",
  "version": 3
 },
 "cells": [
  {
   "cell_type": "code",
   "execution_count": 5,
   "metadata": {},
   "outputs": [],
   "source": [
    "from collections.abc import Iterable "
   ]
  },
  {
   "cell_type": "code",
   "execution_count": 2,
   "metadata": {},
   "outputs": [
    {
     "name": "stdout",
     "output_type": "stream",
     "text": "[20, 23, 26, 29, 32, 35, 38]\n"
    }
   ],
   "source": [
    "Slice_List = list(range(100)) #是0到99哦Slice_List = list(range(100)) #是0到99哦\n",
    "print(Slice_List[20:40:3])#20开始每3取1到40\n"
   ]
  },
  {
   "cell_type": "code",
   "execution_count": 3,
   "metadata": {},
   "outputs": [
    {
     "name": "stdout",
     "output_type": "stream",
     "text": "(20, 23, 26, 29, 32, 35, 38)\n"
    }
   ],
   "source": [
    "Slice_Tuple = tuple(range(20,40))\n",
    "print(Slice_Tuple[::3])#     ::3\n"
   ]
  },
  {
   "cell_type": "code",
   "execution_count": 4,
   "metadata": {},
   "outputs": [
    {
     "name": "stdout",
     "output_type": "stream",
     "text": "qeti\n"
    }
   ],
   "source": [
    "print('qwertuio'[::2])"
   ]
  },
  {
   "cell_type": "code",
   "execution_count": 6,
   "metadata": {},
   "outputs": [
    {
     "name": "stdout",
     "output_type": "stream",
     "text": "True\nFalse\n"
    }
   ],
   "source": [
    "print(isinstance('asdfg',Iterable))\n",
    "print(isinstance(1234,Iterable))"
   ]
  },
  {
   "cell_type": "code",
   "execution_count": 7,
   "metadata": {},
   "outputs": [
    {
     "name": "stdout",
     "output_type": "stream",
     "text": "0 a\n1 b\n2 c\n"
    }
   ],
   "source": [
    "for i,value in enumerate(['a','b','c']):\n",
    "    print(i,value)"
   ]
  }
 ]
}