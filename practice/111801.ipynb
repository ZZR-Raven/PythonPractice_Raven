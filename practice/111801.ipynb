{
 "nbformat": 4,
 "nbformat_minor": 2,
 "metadata": {
  "language_info": {
   "name": "python",
   "codemirror_mode": {
    "name": "ipython",
    "version": 3
   }
  },
  "orig_nbformat": 2,
  "file_extension": ".py",
  "mimetype": "text/x-python",
  "name": "python",
  "npconvert_exporter": "python",
  "pygments_lexer": "ipython3",
  "version": 3
 },
 "cells": [
  {
   "cell_type": "code",
   "execution_count": 4,
   "metadata": {},
   "outputs": [
    {
     "data": {
      "text/plain": "1.6"
     },
     "execution_count": 4,
     "metadata": {},
     "output_type": "execute_result"
    }
   ],
   "source": [
    "# 除\n",
    "3.6/2"
   ]
  },
  {
   "cell_type": "code",
   "execution_count": 5,
   "metadata": {},
   "outputs": [
    {
     "data": {
      "text/plain": "1.8"
     },
     "execution_count": 5,
     "metadata": {},
     "output_type": "execute_result"
    }
   ],
   "source": [
    "# 取模\n",
    "3.6%2"
   ]
  },
  {
   "cell_type": "code",
   "execution_count": 6,
   "metadata": {},
   "outputs": [
    {
     "name": "stdout",
     "output_type": "stream",
     "text": "i'm \"ok\"\n\\\t\\\n\\\\\\t\\\\\n"
    }
   ],
   "source": [
    "print('i\\'m \\\"ok\\\"')\n",
    "print('\\\\\\t\\\\')\n",
    "print(r'\\\\\\t\\\\')#r''的''里面的字符串不转义"
   ]
  },
  {
   "cell_type": "code",
   "execution_count": 12,
   "metadata": {},
   "outputs": [
    {
     "data": {
      "text/plain": "True"
     },
     "execution_count": 12,
     "metadata": {},
     "output_type": "execute_result"
    }
   ],
   "source": [
    "1>3 or 3>1"
   ]
  },
  {
   "cell_type": "code",
   "execution_count": 13,
   "metadata": {},
   "outputs": [
    {
     "data": {
      "text/plain": "False"
     },
     "execution_count": 13,
     "metadata": {},
     "output_type": "execute_result"
    }
   ],
   "source": [
    "not 3>1"
   ]
  },
  {
   "cell_type": "code",
   "execution_count": 16,
   "metadata": {},
   "outputs": [
    {
     "name": "stdout",
     "output_type": "stream",
     "text": "hallo,Raven,你的生日是1999.12\n"
    }
   ],
   "source": [
    "print('hallo,{0},你的生日是{1}'.format('Raven',1999.12))"
   ]
  },
  {
   "cell_type": "code",
   "execution_count": 18,
   "metadata": {},
   "outputs": [
    {
     "data": {
      "text/plain": "{'A': 1, 'B': 66, 'C': 67}"
     },
     "execution_count": 18,
     "metadata": {},
     "output_type": "execute_result"
    }
   ],
   "source": [
    "dicttest = {'A':65,'B':66,'C':67}   # 定义大括号\n",
    "dicttest['A'] = 1                   # 调用中括号\n",
    "dicttest"
   ]
  },
  {
   "cell_type": "code",
   "execution_count": 19,
   "metadata": {},
   "outputs": [
    {
     "name": "stdout",
     "output_type": "stream",
     "text": "66\nwrong\n"
    }
   ],
   "source": [
    "print(dicttest.get('B','wrong'))    # 函数小括号\n",
    "print(dicttest.get('D','wrong'))    # 调用出错，打印第二个字符串"
   ]
  },
  {
   "cell_type": "code",
   "execution_count": 22,
   "metadata": {},
   "outputs": [
    {
     "name": "stdout",
     "output_type": "stream",
     "text": "harry\n1arry\nharry\n"
    }
   ],
   "source": [
    "strtest = 'harry'\n",
    "strtest_1 = strtest.replace('h','1')\n",
    "print(strtest)\n",
    "print(strtest_1)\n",
    "strtest.replace('y','1')\n",
    "print(strtest)#结果还是harry，是创建了一个新字符串然后返回，所以需要一个变量去接收"
   ]
  },
  {
   "cell_type": "code",
   "execution_count": null,
   "metadata": {},
   "outputs": [],
   "source": []
  }
 ]
}